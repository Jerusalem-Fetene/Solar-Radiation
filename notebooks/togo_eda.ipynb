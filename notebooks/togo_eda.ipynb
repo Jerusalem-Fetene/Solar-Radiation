{
 "cells": [
  {
   "cell_type": "code",
   "execution_count": null,
   "id": "fbec00c9",
   "metadata": {},
   "outputs": [],
   "source": [
    "# Conceptual: git checkout -b eda-togo\n",
    "\n",
    "import pandas as pd\n",
    "import numpy as np\n",
    "import matplotlib.pyplot as plt\n",
    "import seaborn as sns\n",
    "from scipy.stats import zscore"
   ]
  },
  {
   "cell_type": "code",
   "execution_count": null,
   "id": "fc352cbe",
   "metadata": {},
   "outputs": [],
   "source": [
    "# --- Load Data ---\n",
    "file_path = '../../data/togo-dapaong_qc.csv' # Adjust path as per your directory structure\n",
    "try:\n",
    "    df = pd.read_csv(file_path)\n",
    "    print(\"Data loaded successfully for Togo.\")\n",
    "except FileNotFoundError:\n",
    "    print(f\"Error: {file_path} not found. Please ensure the data files are in the 'data/' directory.\")\n",
    "    exit()"
   ]
  },
  {
   "cell_type": "code",
   "execution_count": null,
   "id": "096ccaae",
   "metadata": {},
   "outputs": [],
   "source": [
    "# Convert 'Timestamp' to datetime and set as index\n",
    "df['Timestamp'] = pd.to_datetime(df['Timestamp'])\n",
    "df = df.set_index('Timestamp')"
   ]
  },
  {
   "cell_type": "code",
   "execution_count": null,
   "id": "0ca704d4",
   "metadata": {},
   "outputs": [],
   "source": [
    "print(\"Initial DataFrame head:\")\n",
    "print(df.head())\n",
    "print(\"\\nInitial DataFrame info:\")\n",
    "df.info()"
   ]
  },
  {
   "cell_type": "code",
   "execution_count": null,
   "id": "d6b1cb50",
   "metadata": {},
   "outputs": [],
   "source": [
    "# --- Summary Statistics & Missing-Value Report ---\n",
    "print(\"\\n--- Summary Statistics ---\")\n",
    "print(df.describe())"
   ]
  },
  {
   "cell_type": "code",
   "execution_count": null,
   "id": "2a6ad370",
   "metadata": {},
   "outputs": [],
   "source": [
    "print(\"\\n--- Missing Value Report ---\")\n",
    "missing_values = df.isna().sum()\n",
    "missing_percentage = (df.isna().sum() / len(df)) * 100\n",
    "missing_df = pd.DataFrame({'Missing Count': missing_values, 'Missing %': missing_percentage})\n",
    "print(missing_df[missing_df['Missing Count'] > 0].sort_values(by='Missing Count', ascending=False))\n"
   ]
  },
  {
   "cell_type": "code",
   "execution_count": null,
   "id": "1ae44b91",
   "metadata": {},
   "outputs": [],
   "source": [
    "# List columns with >5% nulls\n",
    "cols_with_high_nulls = missing_df[missing_df['Missing %'] > 5].index.tolist()\n",
    "if cols_with_high_nulls:\n",
    "    print(f\"\\nColumns with more than 5% null values: {cols_with_high_nulls}\")\n",
    "else:\n",
    "    print(\"\\nNo columns with more than 5% null values above 5%.\")"
   ]
  },
  {
   "cell_type": "code",
   "execution_count": null,
   "id": "2d264500",
   "metadata": {},
   "outputs": [],
   "source": [
    "df_clean = df.copy()\n",
    "\n",
    "for col in df_clean.columns:\n",
    "    if df_clean[col].dtype in ['float64', 'int64']:\n",
    "        if df_clean[col].isna().any():\n",
    "            median_val = df_clean[col].median()\n",
    "            df_clean[col].fillna(median_val, inplace=True)\n",
    "    elif df_clean[col].isna().any():\n",
    "        pass # Handle non-numeric NaNs if necessary for critical columns\n",
    "\n",
    "df_clean = df_clean.drop(columns=[col for col in df_clean.columns if '_zscore' in col], errors='ignore')\n",
    "\n",
    "initial_rows = df_clean.shape[0]\n",
    "df_clean.dropna(subset=['GHI', 'DNI', 'DHI', 'Tamb'], inplace=True)\n",
    "rows_after_drop = df_clean.shape[0]\n",
    "if initial_rows != rows_after_drop:\n",
    "    print(f\"Dropped {initial_rows - rows_after_drop} rows due to NaN values in critical columns.\")\n",
    "\n",
    "print(f\"\\nShape after cleaning: {df_clean.shape}\")\n",
    "print(\"Cleaned DataFrame head:\")\n",
    "print(df_clean.head())\n",
    "print(\"\\nCleaned DataFrame info:\")\n",
    "df_clean.info()"
   ]
  },
  {
   "cell_type": "code",
   "execution_count": null,
   "id": "d07ec7d9",
   "metadata": {},
   "outputs": [],
   "source": [
    "# --- Export Cleaned DataFrame ---\n",
    "output_dir = '../../data/'\n",
    "output_path = f'{output_dir}togo_clean.csv'\n",
    "df_clean.to_csv(output_path, index=True)\n",
    "print(f\"\\nCleaned data exported to: {output_path}\")"
   ]
  },
  {
   "cell_type": "code",
   "execution_count": null,
   "id": "f0aa5ddf",
   "metadata": {},
   "outputs": [],
   "source": [
    "# --- Time Series Analysis ---\n",
    "plt.figure(figsize=(15, 12))\n",
    "\n",
    "plt.subplot(4, 1, 1)\n",
    "plt.plot(df_clean.index, df_clean['GHI'])\n",
    "plt.title('GHI over Time (Togo)')\n",
    "plt.ylabel('GHI ($W/m^2$)')\n",
    "plt.grid(True)"
   ]
  },
  {
   "cell_type": "code",
   "execution_count": null,
   "id": "04f50e5f",
   "metadata": {},
   "outputs": [],
   "source": [
    "plt.subplot(4, 1, 2)\n",
    "plt.plot(df_clean.index, df_clean['DNI'])\n",
    "plt.title('DNI over Time (Togo)')\n",
    "plt.ylabel('DNI ($W/m^2$)')\n",
    "plt.grid(True)"
   ]
  },
  {
   "cell_type": "code",
   "execution_count": null,
   "id": "f9d789e4",
   "metadata": {},
   "outputs": [],
   "source": [
    "plt.subplot(4, 1, 3)\n",
    "plt.plot(df_clean.index, df_clean['DHI'])\n",
    "plt.title('DHI over Time (Togo)')\n",
    "plt.ylabel('DHI ($W/m^2$)')\n",
    "plt.grid(True)\n"
   ]
  },
  {
   "cell_type": "code",
   "execution_count": null,
   "id": "14ab26f0",
   "metadata": {},
   "outputs": [],
   "source": [
    "plt.subplot(4, 1, 4)\n",
    "plt.plot(df_clean.index, df_clean['Tamb'])\n",
    "plt.title('Ambient Temperature over Time (Togo)')\n",
    "plt.xlabel('Timestamp')\n",
    "plt.ylabel('Tamb (°C)')\n",
    "plt.grid(True)\n",
    "plt.tight_layout()\n",
    "plt.show()"
   ]
  },
  {
   "cell_type": "code",
   "execution_count": null,
   "id": "a30f219e",
   "metadata": {},
   "outputs": [],
   "source": [
    "df_clean['Month'] = df_clean.index.month\n",
    "plt.figure(figsize=(10, 6))\n",
    "sns.boxplot(x='Month', y='GHI', data=df_clean)\n",
    "plt.title('GHI Distribution by Month (Togo)')\n",
    "plt.xlabel('Month')\n",
    "plt.ylabel('GHI ($W/m^2$)')\n",
    "plt.grid(True)\n",
    "plt.show()\n",
    "df_clean.drop(columns=['Month'], inplace=True)"
   ]
  },
  {
   "cell_type": "code",
   "execution_count": null,
   "id": "bb5d4eb1",
   "metadata": {},
   "outputs": [],
   "source": [
    "# --- Cleaning Impact ---\n",
    "if 'Cleaning' in df_clean.columns and df_clean['Cleaning'].nunique() > 1:\n",
    "    df_clean['Cleaning'] = df_clean['Cleaning'].astype(int)\n",
    "    avg_mod_by_cleaning = df_clean.groupby('Cleaning')[['ModA', 'ModB']].mean()\n",
    "    print(\"\\nAverage ModA & ModB Pre/Post-Clean:\")\n",
    "    print(avg_mod_by_cleaning)\n",
    "\n",
    "    avg_mod_by_cleaning.plot(kind='bar', figsize=(8, 5))\n",
    "    plt.title('Average ModA & ModB by Cleaning Event (0=No Clean, 1=Clean) (Togo)')\n",
    "    plt.ylabel('Average Irradiance ($W/m^2$)')\n",
    "    plt.xticks(ticks=[0, 1], labels=['No Cleaning', 'Cleaning'])\n",
    "    plt.grid(axis='y')\n",
    "    plt.show()\n",
    "else:\n",
    "    print(\"\\n'Cleaning' column not found or does not have enough variation for impact analysis.\")\n"
   ]
  },
  {
   "cell_type": "code",
   "execution_count": null,
   "id": "8a1ccab8",
   "metadata": {},
   "outputs": [],
   "source": [
    "# --- Correlation & Relationship Analysis ---\n",
    "numeric_cols = df_clean.select_dtypes(include=np.number).columns.tolist()\n",
    "correlation_matrix = df_clean[numeric_cols].corr()\n",
    "\n",
    "plt.figure(figsize=(12, 10))\n",
    "sns.heatmap(correlation_matrix, annot=True, cmap='coolwarm', fmt=\".2f\", linewidths=.5)\n",
    "plt.title('Correlation Heatmap (Togo)')\n",
    "plt.show()"
   ]
  },
  {
   "cell_type": "code",
   "execution_count": null,
   "id": "22a38e2b",
   "metadata": {},
   "outputs": [],
   "source": [
    "plt.figure(figsize=(18, 5))\n",
    "if 'WS' in df_clean.columns and 'GHI' in df_clean.columns:\n",
    "    plt.subplot(1, 3, 1)\n",
    "    sns.scatterplot(x='WS', y='GHI', data=df_clean, alpha=0.6)\n",
    "    plt.title('Wind Speed vs. GHI (Togo)')\n",
    "    plt.xlabel('WS (m/s)')\n",
    "    plt.ylabel('GHI ($W/m^2$)')\n",
    "\n",
    "if 'WSgust' in df_clean.columns and 'GHI' in df_clean.columns:\n",
    "    plt.subplot(1, 3, 2)\n",
    "    sns.scatterplot(x='WSgust', y='GHI', data=df_clean, alpha=0.6)\n",
    "    plt.title('Wind Gust Speed vs. GHI (Togo)')\n",
    "    plt.xlabel('WSgust (m/s)')\n",
    "    plt.ylabel('GHI ($W/m^2$)')\n",
    "\n",
    "if 'WD' in df_clean.columns and 'GHI' in df_clean.columns:\n",
    "    plt.subplot(1, 3, 3)\n",
    "    sns.scatterplot(x='WD', y='GHI', data=df_clean, alpha=0.6)\n",
    "    plt.title('Wind Direction vs. GHI (Togo)')\n",
    "    plt.xlabel('WD (°N (to east))')\n",
    "    plt.ylabel('GHI ($W/m^2$)')\n",
    "plt.tight_layout()\n",
    "plt.show()\n"
   ]
  },
  {
   "cell_type": "code",
   "execution_count": null,
   "id": "fddcfa93",
   "metadata": {},
   "outputs": [],
   "source": [
    "plt.figure(figsize=(12, 5))\n",
    "if 'RH' in df_clean.columns and 'Tamb' in df_clean.columns:\n",
    "    plt.subplot(1, 2, 1)\n",
    "    sns.scatterplot(x='RH', y='Tamb', data=df_clean, alpha=0.6)\n",
    "    plt.title('Relative Humidity vs. Ambient Temperature (Togo)')\n",
    "    plt.xlabel('RH (%)')\n",
    "    plt.ylabel('Tamb (°C)')\n",
    "\n",
    "if 'RH' in df_clean.columns and 'GHI' in df_clean.columns:\n",
    "    plt.subplot(1, 2, 2)\n",
    "    sns.scatterplot(x='RH', y='GHI', data=df_clean, alpha=0.6)\n",
    "    plt.title('Relative Humidity vs. GHI (Togo)')\n",
    "    plt.xlabel('RH (%)')\n",
    "    plt.ylabel('GHI ($W/m^2$)')\n",
    "plt.tight_layout()\n",
    "plt.show()"
   ]
  },
  {
   "cell_type": "code",
   "execution_count": null,
   "id": "e041a6ec",
   "metadata": {},
   "outputs": [],
   "source": [
    "# --- Wind & Distribution Analysis ---\n",
    "plt.figure(figsize=(12, 6))\n",
    "\n",
    "if 'WS' in df_clean.columns:\n",
    "    plt.subplot(1, 2, 1)\n",
    "    sns.histplot(df_clean['WS'].dropna(), bins=30, kde=True)\n",
    "    plt.title('Distribution of Wind Speed (Togo)')\n",
    "    plt.xlabel('WS (m/s)')\n",
    "    plt.ylabel('Frequency')\n",
    "\n",
    "if 'WD' in df_clean.columns:\n",
    "    plt.subplot(1, 2, 2)\n",
    "    sns.histplot(df_clean['WD'].dropna(), bins=30, kde=True)\n",
    "    plt.title('Distribution of Wind Direction (Togo)')\n",
    "    plt.xlabel('WD (°N (to east))')\n",
    "    plt.ylabel('Frequency')\n",
    "plt.tight_layout()\n",
    "plt.show()"
   ]
  },
  {
   "cell_type": "code",
   "execution_count": null,
   "id": "dc17280e",
   "metadata": {},
   "outputs": [],
   "source": [
    "plt.figure(figsize=(12, 6))\n",
    "if 'GHI' in df_clean.columns:\n",
    "    plt.subplot(1, 2, 1)\n",
    "    sns.histplot(df_clean['GHI'].dropna(), bins=30, kde=True)\n",
    "    plt.title('Distribution of GHI (Togo)')\n",
    "    plt.xlabel('GHI ($W/m^2$)')\n",
    "    plt.ylabel('Frequency')\n",
    "\n",
    "if 'WS' in df_clean.columns:\n",
    "    plt.subplot(1, 2, 2)\n",
    "    sns.histplot(df_clean['WS'].dropna(), bins=30, kde=True)\n",
    "    plt.title('Distribution of Wind Speed (Togo)')\n",
    "    plt.xlabel('WS (m/s)')\n",
    "    plt.ylabel('Frequency')\n",
    "plt.tight_layout()\n",
    "plt.show()"
   ]
  },
  {
   "cell_type": "code",
   "execution_count": null,
   "id": "2d3e83d3",
   "metadata": {},
   "outputs": [],
   "source": [
    "# --- Temperature Analysis ---\n",
    "if 'RH' in df_clean.columns and 'Tamb' in df_clean.columns and 'GHI' in df_clean.columns:\n",
    "    plt.figure(figsize=(10, 7))\n",
    "    sns.scatterplot(x='RH', y='Tamb', hue='GHI', size='GHI', sizes=(20, 400),\n",
    "                    data=df_clean, alpha=0.6, palette='viridis')\n",
    "    plt.title('RH vs. Tamb (Colored by GHI) (Togo)')\n",
    "    plt.xlabel('Relative Humidity (%)')\n",
    "    plt.ylabel('Ambient Temperature (°C)')\n",
    "    plt.legend(title='GHI ($W/m^2$)', bbox_to_anchor=(1.05, 1), loc='upper left')\n",
    "    plt.tight_layout()\n",
    "    plt.show()\n",
    "else:\n",
    "    print(\"\\nSkipping Temperature Analysis: Missing one or more of 'RH', 'Tamb', 'GHI' columns.\")"
   ]
  },
  {
   "cell_type": "code",
   "execution_count": null,
   "id": "a33fa4f6",
   "metadata": {},
   "outputs": [],
   "source": [
    "# --- Bubble Chart ---\n",
    "if 'Tamb' in df_clean.columns and 'GHI' in df_clean.columns and 'RH' in df_clean.columns and 'BP' in df_clean.columns:\n",
    "    plt.figure(figsize=(12, 8))\n",
    "    sns.scatterplot(x='Tamb', y='GHI', size='RH', hue='RH', sizes=(50, 1000),\n",
    "                    alpha=0.6, palette='viridis', data=df_clean)\n",
    "    plt.title('GHI vs. Ambient Temperature (Bubble Size by Relative Humidity) (Togo)')\n",
    "    plt.xlabel('Ambient Temperature (°C)')\n",
    "    plt.ylabel('GHI ($W/m^2$)')\n",
    "    plt.legend(title='Relative Humidity (%)', bbox_to_anchor=(1.05, 1), loc='upper left')\n",
    "    plt.tight_layout()\n",
    "    plt.show()"
   ]
  },
  {
   "cell_type": "code",
   "execution_count": null,
   "id": "0fdae5b9",
   "metadata": {},
   "outputs": [],
   "source": [
    "plt.figure(figsize=(12, 8))\n",
    "    sns.scatterplot(x='Tamb', y='GHI', size='BP', hue='BP', sizes=(50, 1000),\n",
    "                    alpha=0.6, palette='magma', data=df_clean)\n",
    "    plt.title('GHI vs. Ambient Temperature (Bubble Size by Barometric Pressure) (Togo)')\n",
    "    plt.xlabel('Ambient Temperature (°C)')\n",
    "    plt.ylabel('GHI ($W/m^2$)')\n",
    "    plt.legend(title='Barometric Pressure (hPa)', bbox_to_anchor=(1.05, 1), loc='upper left')\n",
    "    plt.tight_layout()\n",
    "    plt.show()\n",
    "else:\n",
    "    print(\"\\nSkipping Bubble Chart: Missing one or more of 'Tamb', 'GHI', 'RH', 'BP' columns.\")"
   ]
  }
 ],
 "metadata": {
  "language_info": {
   "name": "python"
  }
 },
 "nbformat": 4,
 "nbformat_minor": 5
}
