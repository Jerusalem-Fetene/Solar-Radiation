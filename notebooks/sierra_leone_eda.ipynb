{
 "cells": [
  {
   "cell_type": "code",
   "execution_count": null,
   "id": "497c1b4e",
   "metadata": {},
   "outputs": [],
   "source": [
    "# Conceptual: git checkout -b eda-sierra-leone\n",
    "\n",
    "import pandas as pd\n",
    "import numpy as np\n",
    "import matplotlib.pyplot as plt\n",
    "import seaborn as sns\n",
    "from scipy.stats import zscore"
   ]
  },
  {
   "cell_type": "code",
   "execution_count": null,
   "id": "ce8ab1c8",
   "metadata": {},
   "outputs": [],
   "source": [
    "# --- Load Data ---\n",
    "file_path = '../../data/sierraleone-bumbuna.csv' # Adjust path as per your directory structure\n",
    "try:\n",
    "    df = pd.read_csv(file_path)\n",
    "    print(\"Data loaded successfully for Sierra Leone.\")\n",
    "except FileNotFoundError:\n",
    "    print(f\"Error: {file_path} not found. Please ensure the data files are in the 'data/' directory.\")\n",
    "    exit()"
   ]
  },
  {
   "cell_type": "code",
   "execution_count": null,
   "id": "ea40b29d",
   "metadata": {},
   "outputs": [],
   "source": [
    "# Convert 'Timestamp' to datetime and set as index\n",
    "df['Timestamp'] = pd.to_datetime(df['Timestamp'])\n",
    "df = df.set_index('Timestamp')\n"
   ]
  },
  {
   "cell_type": "code",
   "execution_count": null,
   "id": "b52720cc",
   "metadata": {},
   "outputs": [],
   "source": [
    "print(\"Initial DataFrame head:\")\n",
    "print(df.head())\n",
    "print(\"\\nInitial DataFrame info:\")\n",
    "df.info()"
   ]
  },
  {
   "cell_type": "code",
   "execution_count": null,
   "id": "a011307e",
   "metadata": {},
   "outputs": [],
   "source": [
    "# --- Summary Statistics & Missing-Value Report ---\n",
    "print(\"\\n--- Summary Statistics ---\")\n",
    "print(df.describe())"
   ]
  },
  {
   "cell_type": "code",
   "execution_count": null,
   "id": "45ec8143",
   "metadata": {},
   "outputs": [],
   "source": [
    "print(\"\\n--- Missing Value Report ---\")\n",
    "missing_values = df.isna().sum()\n",
    "missing_percentage = (df.isna().sum() / len(df)) * 100\n",
    "missing_df = pd.DataFrame({'Missing Count': missing_values, 'Missing %': missing_percentage})\n",
    "print(missing_df[missing_df['Missing Count'] > 0].sort_values(by='Missing Count', ascending=False))"
   ]
  },
  {
   "cell_type": "code",
   "execution_count": null,
   "id": "d1303fc6",
   "metadata": {},
   "outputs": [],
   "source": [
    "# List columns with >5% nulls\n",
    "cols_with_high_nulls = missing_df[missing_df['Missing %'] > 5].index.tolist()\n",
    "if cols_with_high_nulls:\n",
    "    print(f\"\\nColumns with more than 5% null values: {cols_with_high_nulls}\")\n",
    "else:\n",
    "    print(\"\\nNo columns with more than 5% null values above 5%.\")"
   ]
  },
  {
   "cell_type": "code",
   "execution_count": null,
   "id": "d6eb3745",
   "metadata": {},
   "outputs": [],
   "source": [
    "# --- Outlier Detection & Basic Cleaning ---\n",
    "zscore_cols = ['GHI', 'DNI', 'DHI', 'ModA', 'ModB', 'WS', 'WSgust']\n",
    "\n",
    "for col in zscore_cols:\n",
    "    if col in df.columns:\n",
    "        if df[col].dtype not in ['float64', 'int64']:\n",
    "            print(f\"Warning: Column '{col}' is not numeric. Skipping Z-score calculation.\")\n",
    "            continue\n",
    "        if df[col].isnull().all():\n",
    "            print(f\"Warning: Column '{col}' contains only NaN values. Skipping Z-score calculation.\")\n",
    "            continue\n",
    "        \n",
    "        df[f'{col}_zscore'] = np.abs(zscore(df[col].dropna()))\n",
    "        outliers_count = df[df[f'{col}_zscore'] > 3].shape[0]\n",
    "        print(f\"Outliers (Z > 3) in {col}: {outliers_count} rows\")\n",
    "    else:\n",
    "        print(f\"Warning: Column '{col}' not found for Z-score calculation.\")\n",
    "\n",
    "df_clean = df.copy()\n",
    "\n",
    "for col in df_clean.columns:\n",
    "    if df_clean[col].dtype in ['float64', 'int64']:\n",
    "        if df_clean[col].isna().any():\n",
    "            median_val = df_clean[col].median()\n",
    "            df_clean[col].fillna(median_val, inplace=True)\n",
    "    elif df_clean[col].isna().any():\n",
    "        pass # Handle non-numeric NaNs if necessary for critical columns\n",
    "\n",
    "df_clean = df_clean.drop(columns=[col for col in df_clean.columns if '_zscore' in col], errors='ignore')\n",
    "\n",
    "initial_rows = df_clean.shape[0]\n",
    "df_clean.dropna(subset=['GHI', 'DNI', 'DHI', 'Tamb'], inplace=True)\n",
    "rows_after_drop = df_clean.shape[0]\n",
    "if initial_rows != rows_after_drop:\n",
    "    print(f\"Dropped {initial_rows - rows_after_drop} rows due to NaN values in critical columns.\")\n",
    "\n",
    "print(f\"\\nShape after cleaning: {df_clean.shape}\")\n",
    "print(\"Cleaned DataFrame head:\")\n",
    "print(df_clean.head())\n",
    "print(\"\\nCleaned DataFrame info:\")\n",
    "df_clean.info()"
   ]
  },
  {
   "cell_type": "code",
   "execution_count": null,
   "id": "a3600f70",
   "metadata": {},
   "outputs": [],
   "source": [
    "# --- Export Cleaned DataFrame ---\n",
    "output_dir = '../../data/'\n",
    "output_path = f'{output_dir}sierra_leone_clean.csv'\n",
    "df_clean.to_csv(output_path, index=True)\n",
    "print(f\"\\nCleaned data exported to: {output_path}\")"
   ]
  },
  {
   "cell_type": "code",
   "execution_count": null,
   "id": "381b34f2",
   "metadata": {},
   "outputs": [],
   "source": [
    "# --- Time Series Analysis ---\n",
    "plt.figure(figsize=(15, 12))"
   ]
  },
  {
   "cell_type": "code",
   "execution_count": null,
   "id": "5b2010e7",
   "metadata": {},
   "outputs": [],
   "source": [
    "plt.subplot(4, 1, 1)\n",
    "plt.plot(df_clean.index, df_clean['GHI'])\n",
    "plt.title('GHI over Time (Sierra Leone)')\n",
    "plt.ylabel('GHI ($W/m^2$)')\n",
    "plt.grid(True)\n"
   ]
  },
  {
   "cell_type": "code",
   "execution_count": null,
   "id": "a4f5d05d",
   "metadata": {},
   "outputs": [],
   "source": [
    "plt.subplot(4, 1, 2)\n",
    "plt.plot(df_clean.index, df_clean['DNI'])\n",
    "plt.title('DNI over Time (Sierra Leone)')\n",
    "plt.ylabel('DNI ($W/m^2$)')\n",
    "plt.grid(True)"
   ]
  },
  {
   "cell_type": "code",
   "execution_count": null,
   "id": "4a73d37f",
   "metadata": {},
   "outputs": [],
   "source": [
    "plt.subplot(4, 1, 3)\n",
    "plt.plot(df_clean.index, df_clean['DHI'])\n",
    "plt.title('DHI over Time (Sierra Leone)')\n",
    "plt.ylabel('DHI ($W/m^2$)')\n",
    "plt.grid(True)"
   ]
  },
  {
   "cell_type": "code",
   "execution_count": null,
   "id": "496c6a6a",
   "metadata": {},
   "outputs": [],
   "source": [
    "plt.subplot(4, 1, 4)\n",
    "plt.plot(df_clean.index, df_clean['Tamb'])\n",
    "plt.title('Ambient Temperature over Time (Sierra Leone)')\n",
    "plt.xlabel('Timestamp')\n",
    "plt.ylabel('Tamb (°C)')\n",
    "plt.grid(True)\n",
    "plt.tight_layout()\n",
    "plt.show()"
   ]
  },
  {
   "cell_type": "code",
   "execution_count": null,
   "id": "9595042b",
   "metadata": {},
   "outputs": [],
   "source": [
    "df_clean['Month'] = df_clean.index.month\n",
    "plt.figure(figsize=(10, 6))\n",
    "sns.boxplot(x='Month', y='GHI', data=df_clean)\n",
    "plt.title('GHI Distribution by Month (Sierra Leone)')\n",
    "plt.xlabel('Month')\n",
    "plt.ylabel('GHI ($W/m^2$)')\n",
    "plt.grid(True)\n",
    "plt.show()\n",
    "df_clean.drop(columns=['Month'], inplace=True)"
   ]
  },
  {
   "cell_type": "code",
   "execution_count": null,
   "id": "df332c83",
   "metadata": {},
   "outputs": [],
   "source": [
    "# --- Cleaning Impact ---\n",
    "if 'Cleaning' in df_clean.columns and df_clean['Cleaning'].nunique() > 1:\n",
    "    df_clean['Cleaning'] = df_clean['Cleaning'].astype(int)\n",
    "    avg_mod_by_cleaning = df_clean.groupby('Cleaning')[['ModA', 'ModB']].mean()\n",
    "    print(\"\\nAverage ModA & ModB Pre/Post-Clean:\")\n",
    "    print(avg_mod_by_cleaning)\n",
    "\n",
    "    avg_mod_by_cleaning.plot(kind='bar', figsize=(8, 5))\n",
    "    plt.title('Average ModA & ModB by Cleaning Event (0=No Clean, 1=Clean) (Sierra Leone)')\n",
    "    plt.ylabel('Average Irradiance ($W/m^2$)')\n",
    "    plt.xticks(ticks=[0, 1], labels=['No Cleaning', 'Cleaning'])\n",
    "    plt.grid(axis='y')\n",
    "    plt.show()\n",
    "else:\n",
    "    print(\"\\n'Cleaning' column not found or does not have enough variation for impact analysis.\")"
   ]
  },
  {
   "cell_type": "code",
   "execution_count": null,
   "id": "a5104cd5",
   "metadata": {},
   "outputs": [],
   "source": [
    "# --- Correlation & Relationship Analysis ---\n",
    "numeric_cols = df_clean.select_dtypes(include=np.number).columns.tolist()\n",
    "correlation_matrix = df_clean[numeric_cols].corr()\n",
    "\n",
    "plt.figure(figsize=(12, 10))\n",
    "sns.heatmap(correlation_matrix, annot=True, cmap='coolwarm', fmt=\".2f\", linewidths=.5)\n",
    "plt.title('Correlation Heatmap (Sierra Leone)')\n",
    "plt.show()"
   ]
  },
  {
   "cell_type": "code",
   "execution_count": null,
   "id": "9537debc",
   "metadata": {},
   "outputs": [],
   "source": [
    "plt.figure(figsize=(18, 5))\n",
    "if 'WS' in df_clean.columns and 'GHI' in df_clean.columns:\n",
    "    plt.subplot(1, 3, 1)\n",
    "    sns.scatterplot(x='WS', y='GHI', data=df_clean, alpha=0.6)\n",
    "    plt.title('Wind Speed vs. GHI (Sierra Leone)')\n",
    "    plt.xlabel('WS (m/s)')\n",
    "    plt.ylabel('GHI ($W/m^2$)')"
   ]
  },
  {
   "cell_type": "code",
   "execution_count": null,
   "id": "8e32d1ef",
   "metadata": {},
   "outputs": [],
   "source": [
    "if 'WSgust' in df_clean.columns and 'GHI' in df_clean.columns:\n",
    "    plt.subplot(1, 3, 2)\n",
    "    sns.scatterplot(x='WSgust', y='GHI', data=df_clean, alpha=0.6)\n",
    "    plt.title('Wind Gust Speed vs. GHI (Sierra Leone)')\n",
    "    plt.xlabel('WSgust (m/s)')\n",
    "    plt.ylabel('GHI ($W/m^2$)')"
   ]
  },
  {
   "cell_type": "code",
   "execution_count": null,
   "id": "61b2a3ff",
   "metadata": {},
   "outputs": [],
   "source": [
    "if 'WD' in df_clean.columns and 'GHI' in df_clean.columns:\n",
    "    plt.subplot(1, 3, 3)\n",
    "    sns.scatterplot(x='WD', y='GHI', data=df_clean, alpha=0.6)\n",
    "    plt.title('Wind Direction vs. GHI (Sierra Leone)')\n",
    "    plt.xlabel('WD (°N (to east))')\n",
    "    plt.ylabel('GHI ($W/m^2$)')\n",
    "plt.tight_layout()\n",
    "plt.show()"
   ]
  },
  {
   "cell_type": "code",
   "execution_count": null,
   "id": "f577c899",
   "metadata": {},
   "outputs": [],
   "source": [
    "plt.figure(figsize=(12, 5))\n",
    "if 'RH' in df_clean.columns and 'Tamb' in df_clean.columns:\n",
    "    plt.subplot(1, 2, 1)\n",
    "    sns.scatterplot(x='RH', y='Tamb', data=df_clean, alpha=0.6)\n",
    "    plt.title('Relative Humidity vs. Ambient Temperature (Sierra Leone)')\n",
    "    plt.xlabel('RH (%)')\n",
    "    plt.ylabel('Tamb (°C)')\n",
    "\n",
    "if 'RH' in df_clean.columns and 'GHI' in df_clean.columns:\n",
    "    plt.subplot(1, 2, 2)\n",
    "    sns.scatterplot(x='RH', y='GHI', data=df_clean, alpha=0.6)\n",
    "    plt.title('Relative Humidity vs. GHI (Sierra Leone)')\n",
    "    plt.xlabel('RH (%)')\n",
    "    plt.ylabel('GHI ($W/m^2$)')\n",
    "plt.tight_layout()\n",
    "plt.show()"
   ]
  },
  {
   "cell_type": "code",
   "execution_count": null,
   "id": "94ddd153",
   "metadata": {},
   "outputs": [],
   "source": [
    "# --- Wind & Distribution Analysis ---\n",
    "plt.figure(figsize=(12, 6))\n",
    "\n",
    "if 'WS' in df_clean.columns:\n",
    "    plt.subplot(1, 2, 1)\n",
    "    sns.histplot(df_clean['WS'].dropna(), bins=30, kde=True)\n",
    "    plt.title('Distribution of Wind Speed (Sierra Leone)')\n",
    "    plt.xlabel('WS (m/s)')\n",
    "    plt.ylabel('Frequency')\n",
    "\n",
    "if 'WD' in df_clean.columns:\n",
    "    plt.subplot(1, 2, 2)\n",
    "    sns.histplot(df_clean['WD'].dropna(), bins=30, kde=True)\n",
    "    plt.title('Distribution of Wind Direction (Sierra Leone)')\n",
    "    plt.xlabel('WD (°N (to east))')\n",
    "    plt.ylabel('Frequency')\n",
    "plt.tight_layout()\n",
    "plt.show()"
   ]
  },
  {
   "cell_type": "code",
   "execution_count": null,
   "id": "f9ec2ca2",
   "metadata": {},
   "outputs": [],
   "source": [
    "plt.figure(figsize=(12, 6))\n",
    "if 'GHI' in df_clean.columns:\n",
    "    plt.subplot(1, 2, 1)\n",
    "    sns.histplot(df_clean['GHI'].dropna(), bins=30, kde=True)\n",
    "    plt.title('Distribution of GHI (Sierra Leone)')\n",
    "    plt.xlabel('GHI ($W/m^2$)')\n",
    "    plt.ylabel('Frequency')\n",
    "\n",
    "if 'WS' in df_clean.columns:\n",
    "    plt.subplot(1, 2, 2)\n",
    "    sns.histplot(df_clean['WS'].dropna(), bins=30, kde=True)\n",
    "    plt.title('Distribution of Wind Speed (Sierra Leone)')\n",
    "    plt.xlabel('WS (m/s)')\n",
    "    plt.ylabel('Frequency')\n",
    "plt.tight_layout()\n",
    "plt.show()"
   ]
  },
  {
   "cell_type": "code",
   "execution_count": null,
   "id": "833e5962",
   "metadata": {},
   "outputs": [],
   "source": [
    "# --- Temperature Analysis ---\n",
    "if 'RH' in df_clean.columns and 'Tamb' in df_clean.columns and 'GHI' in df_clean.columns:\n",
    "    plt.figure(figsize=(10, 7))\n",
    "    sns.scatterplot(x='RH', y='Tamb', hue='GHI', size='GHI', sizes=(20, 400),\n",
    "                    data=df_clean, alpha=0.6, palette='viridis')\n",
    "    plt.title('RH vs. Tamb (Colored by GHI) (Sierra Leone)')\n",
    "    plt.xlabel('Relative Humidity (%)')\n",
    "    plt.ylabel('Ambient Temperature (°C)')\n",
    "    plt.legend(title='GHI ($W/m^2$)', bbox_to_anchor=(1.05, 1), loc='upper left')\n",
    "    plt.tight_layout()\n",
    "    plt.show()\n",
    "else:\n",
    "    print(\"\\nSkipping Temperature Analysis: Missing one or more of 'RH', 'Tamb', 'GHI' columns.\")"
   ]
  },
  {
   "cell_type": "code",
   "execution_count": null,
   "id": "6e03dc7c",
   "metadata": {},
   "outputs": [],
   "source": [
    "# --- Bubble Chart ---\n",
    "if 'Tamb' in df_clean.columns and 'GHI' in df_clean.columns and 'RH' in df_clean.columns and 'BP' in df_clean.columns:\n",
    "    plt.figure(figsize=(12, 8))\n",
    "    sns.scatterplot(x='Tamb', y='GHI', size='RH', hue='RH', sizes=(50, 1000),\n",
    "                    alpha=0.6, palette='viridis', data=df_clean)\n",
    "    plt.title('GHI vs. Ambient Temperature (Bubble Size by Relative Humidity) (Sierra Leone)')\n",
    "    plt.xlabel('Ambient Temperature (°C)')\n",
    "    plt.ylabel('GHI ($W/m^2$)')\n",
    "    plt.legend(title='Relative Humidity (%)', bbox_to_anchor=(1.05, 1), loc='upper left')\n",
    "    plt.tight_layout()\n",
    "    plt.show()\n"
   ]
  },
  {
   "cell_type": "code",
   "execution_count": null,
   "id": "2aec5ada",
   "metadata": {},
   "outputs": [],
   "source": [
    "plt.figure(figsize=(12, 8))\n",
    "    sns.scatterplot(x='Tamb', y='GHI', size='BP', hue='BP', sizes=(50, 1000),\n",
    "                    alpha=0.6, palette='magma', data=df_clean)\n",
    "    plt.title('GHI vs. Ambient Temperature (Bubble Size by Barometric Pressure) (Sierra Leone)')\n",
    "    plt.xlabel('Ambient Temperature (°C)')\n",
    "    plt.ylabel('GHI ($W/m^2$)')\n",
    "    plt.legend(title='Barometric Pressure (hPa)', bbox_to_anchor=(1.05, 1), loc='upper left')\n",
    "    plt.tight_layout()\n",
    "    plt.show()\n",
    "else:\n",
    "    print(\"\\nSkipping Bubble Chart: Missing one or more of 'Tamb', 'GHI', 'RH', 'BP' columns.\")"
   ]
  }
 ],
 "metadata": {
  "language_info": {
   "name": "python"
  }
 },
 "nbformat": 4,
 "nbformat_minor": 5
}
