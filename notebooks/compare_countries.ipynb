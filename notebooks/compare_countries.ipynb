{
 "cells": [
  {
   "cell_type": "code",
   "execution_count": null,
   "id": "fe5e861d",
   "metadata": {},
   "outputs": [],
   "source": [
    "# Conceptual: git checkout -b compare-countries\n",
    "\n",
    "import pandas as pd\n",
    "import matplotlib.pyplot as plt\n",
    "import seaborn as sns\n",
    "from scipy import stats"
   ]
  },
  {
   "cell_type": "code",
   "execution_count": null,
   "id": "f98f04fe",
   "metadata": {},
   "outputs": [],
   "source": [
    "# --- Load each country's cleaned CSV ---\n",
    "try:\n",
    "    df_benin = pd.read_csv('../../data/benin_clean.csv', parse_dates=['Timestamp'])\n",
    "    df_benin['Country'] = 'Benin'\n",
    "    df_sierra_leone = pd.read_csv('../../data/sierra_leone_clean.csv', parse_dates=['Timestamp'])\n",
    "    df_sierra_leone['Country'] = 'Sierra Leone'\n",
    "    df_togo = pd.read_csv('../../data/togo_clean.csv', parse_dates=['Timestamp'])\n",
    "    df_togo['Country'] = 'Togo'"
   ]
  },
  {
   "cell_type": "code",
   "execution_count": null,
   "id": "feaa8ed8",
   "metadata": {},
   "outputs": [],
   "source": [
    "   # Concatenate all dataframes\n",
    "    df_combined = pd.concat([df_benin, df_sierra_leone, df_togo], ignore_index=True)\n",
    "    print(\"Cleaned data for all countries loaded successfully.\")\n",
    "    print(\"Combined DataFrame head:\")\n",
    "    print(df_combined.head())\n",
    "    print(\"\\nCombined DataFrame info:\")\n",
    "    df_combined.info()\n",
    "\n",
    "except FileNotFoundError as e:\n",
    "    print(f\"Error loading cleaned data: {e}. Please ensure cleaned CSV files exist in the 'data/' directory (e.g., benin_clean.csv).\")\n",
    "    exit()\n",
    "except Exception as e:\n",
    "    print(f\"An unexpected error occurred: {e}\")\n",
    "    exit()"
   ]
  },
  {
   "cell_type": "code",
   "execution_count": null,
   "id": "88e87230",
   "metadata": {},
   "outputs": [],
   "source": [
    "# --- Metric Comparison ---\n",
    "metrics = ['GHI', 'DNI', 'DHI']\n",
    "\n",
    "print(\"\\n--- Boxplots of GHI, DNI, DHI Across Countries ---\")\n",
    "for metric in metrics:\n",
    "    plt.figure(figsize=(10, 6))\n",
    "    sns.boxplot(x='Country', y=metric, data=df_combined, palette='viridis')\n",
    "    plt.title(f'Distribution of {metric} Across Countries')\n",
    "    plt.ylabel(f'{metric} ($W/m^2$)')\n",
    "    plt.xlabel('Country')\n",
    "    plt.grid(axis='y', linestyle='--', alpha=0.7)\n",
    "    plt.show()"
   ]
  },
  {
   "cell_type": "code",
   "execution_count": null,
   "id": "dd226151",
   "metadata": {},
   "outputs": [],
   "source": [
    "# Summary Table\n",
    "print(\"\\n--- Summary Table (Mean, Median, Std Dev) of GHI, DNI, DHI Across Countries ---\")\n",
    "summary_table = df_combined.groupby('Country')[metrics].agg(['mean', 'median', 'std'])\n",
    "print(summary_table)"
   ]
  },
  {
   "cell_type": "code",
   "execution_count": null,
   "id": "fd9da239",
   "metadata": {},
   "outputs": [],
   "source": [
    "# --- Statistical Testing (One-way ANOVA) ---\n",
    "print(f\"\\n--- One-way ANOVA on GHI values ---\")\n",
    "if 'GHI' in df_combined.columns:\n",
    "    # Ensure all countries have GHI data to perform ANOVA\n",
    "    ghi_data_per_country = [df_combined[df_combined['Country'] == country]['GHI'].dropna()\n",
    "                            for country in df_combined['Country'].unique()]\n",
    "\n",
    "    # Check if there's enough data for ANOVA (at least 2 groups with data)\n",
    "    if len(ghi_data_per_country) >= 2 and all(len(g) > 1 for g in ghi_data_per_country):\n",
    "        f_statistic, p_value = stats.f_oneway(*ghi_data_per_country)\n",
    "        print(f\"F-statistic: {f_statistic:.2f}\")\n",
    "        print(f\"P-value: {p_value:.3f}\")\n",
    "\n",
    "        if p_value < 0.05:\n",
    "            print(\"Brief Note: The p-value is less than 0.05, indicating a statistically significant difference in mean GHI across the countries.\")\n",
    "        else:\n",
    "            print(\"Brief Note: The p-value is greater than 0.05, indicating no statistically significant difference in mean GHI across the countries.\")\n",
    "    else:\n",
    "        print(\"Not enough data points per country to perform ANOVA on GHI.\")\n",
    "else:\n",
    "    print(\"'GHI' column not found for statistical testing.\")"
   ]
  },
  {
   "cell_type": "code",
   "execution_count": null,
   "id": "fccaf6ed",
   "metadata": {},
   "outputs": [],
   "source": [
    "# --- Key Observations (Markdown Cell Content) ---\n",
    "# This section describes what you would put in a markdown cell in the Jupyter Notebook.\n",
    "print(\"\\n--- Key Observations (Content for Markdown Cell) ---\")\n",
    "print(\"\"\"\n",
    "### Key Observations"
   ]
  },
  {
   "cell_type": "code",
   "execution_count": null,
   "id": "ac14700c",
   "metadata": {},
   "outputs": [],
   "source": [
    "Based on the cross-country comparison of solar radiation data:\n",
    "\n",
    "* **Solar Potential Ranking:** Based on median GHI, [Country X] appears to have the highest solar potential, followed by [Country Y] and [Country Z]. The boxplots visually confirm this ranking, showing the general shift in GHI distributions.\n",
    "* **Variability in Irradiance:** [Country A] exhibits the greatest variability in GHI, DNI, and DHI (as indicated by the spread of its boxplots and higher standard deviations), which could be due to more dynamic weather patterns or local environmental factors.\n",
    "* **Statistical Significance:** The one-way ANOVA test on GHI indicates that there [is/is no] a statistically significant difference in the mean GHI values between the countries (p-value = [p_value_from_above]). This suggests that the observed differences are [unlikely/likely] due to random chance.\n",
    "\"\"\")\n",
    "\n",
    "\n",
    "# --- (Bonus) Visual Summary: Bar chart ranking countries by average GHI ---\n",
    "print(\"\\n--- Bonus: Visual Summary - Average GHI Ranking ---\")\n",
    "if 'GHI' in df_combined.columns:\n",
    "    avg_ghi_by_country = df_combined.groupby('Country')['GHI'].mean().sort_values(ascending=False)\n",
    "\n",
    "    plt.figure(figsize=(8, 5))\n",
    "    avg_ghi_by_country.plot(kind='bar', color='skyblue')\n",
    "    plt.title('Average GHI by Country')\n",
    "    plt.xlabel('Country')\n",
    "    plt.ylabel('Average GHI ($W/m^2$)')\n",
    "    plt.xticks(rotation=45)\n",
    "    plt.grid(axis='y', linestyle='--', alpha=0.7)\n",
    "    plt.tight_layout()\n",
    "    plt.show()\n",
    "else:\n",
    "    print(\"'GHI' column not available for bonus visual summary.\")"
   ]
  }
 ],
 "metadata": {
  "language_info": {
   "name": "python"
  }
 },
 "nbformat": 4,
 "nbformat_minor": 5
}
